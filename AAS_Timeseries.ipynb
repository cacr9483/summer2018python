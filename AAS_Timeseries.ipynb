{
 "cells": [
  {
   "cell_type": "markdown",
   "metadata": {},
   "source": [
    "AAS - Timeseries: Read in and Manipulate Time Series in Astropy Demo"
   ]
  },
  {
   "cell_type": "code",
   "execution_count": null,
   "metadata": {},
   "outputs": [],
   "source": [
    "\n"
   ]
  },
  {
   "cell_type": "raw",
   "metadata": {},
   "source": [
    "First retrieve a FITS file containing a Kepler light curve for a source using Astropy"
   ]
  },
  {
   "cell_type": "code",
   "execution_count": 1,
   "metadata": {},
   "outputs": [],
   "source": [
    ">>> from astropy.utils.data import get_pkg_data_filename\n",
    ">>> filename = get_pkg_data_filename('timeseries/kplr010666592-2009131110544_slc.fits')  "
   ]
  },
  {
   "cell_type": "raw",
   "metadata": {},
   "source": [
    "We can then use the TimeSeries class to read in this file:"
   ]
  },
  {
   "cell_type": "code",
   "execution_count": 2,
   "metadata": {},
   "outputs": [],
   "source": [
    ">>> from astropy.timeseries import TimeSeries\n",
    ">>> ts = TimeSeries.read(filename, format='kepler.fits')  "
   ]
  },
  {
   "cell_type": "code",
   "execution_count": 3,
   "metadata": {},
   "outputs": [
    {
     "data": {
      "text/html": [
       "<i>TimeSeries length=14280</i>\n",
       "<table id=\"table140622478579936\" class=\"table-striped table-bordered table-condensed\">\n",
       "<thead><tr><th>time</th><th>timecorr</th><th>cadenceno</th><th>sap_flux</th><th>sap_flux_err</th><th>sap_bkg</th><th>sap_bkg_err</th><th>pdcsap_flux</th><th>pdcsap_flux_err</th><th>sap_quality</th><th>psf_centr1</th><th>psf_centr1_err</th><th>psf_centr2</th><th>psf_centr2_err</th><th>mom_centr1</th><th>mom_centr1_err</th><th>mom_centr2</th><th>mom_centr2_err</th><th>pos_corr1</th><th>pos_corr2</th></tr></thead>\n",
       "<thead><tr><th></th><th>d</th><th></th><th>electron / s</th><th>electron / s</th><th>electron / s</th><th>electron / s</th><th>electron / s</th><th>electron / s</th><th></th><th>pix</th><th>pix</th><th>pix</th><th>pix</th><th>pix</th><th>pix</th><th>pix</th><th>pix</th><th>pix</th><th>pix</th></tr></thead>\n",
       "<thead><tr><th>object</th><th>float32</th><th>int32</th><th>float32</th><th>float32</th><th>float32</th><th>float32</th><th>float32</th><th>float32</th><th>int32</th><th>float64</th><th>float32</th><th>float64</th><th>float32</th><th>float64</th><th>float32</th><th>float64</th><th>float32</th><th>float32</th><th>float32</th></tr></thead>\n",
       "<tr><td>2009-05-02T00:41:40.338</td><td>6.630610e-04</td><td>5500</td><td>1.0270451e+06</td><td>1.4041933e+02</td><td>3.7480554e+03</td><td>2.2283568e+00</td><td>1.0346376e+06</td><td>2.4780812e+02</td><td>0</td><td>nan</td><td>nan</td><td>nan</td><td>nan</td><td>1041.56040</td><td>1.3623475e-04</td><td>613.47997</td><td>1.7336856e-04</td><td>1.5822421e-03</td><td>-1.4463664e-03</td></tr>\n",
       "<tr><td>2009-05-02T00:42:39.188</td><td>6.630857e-04</td><td>5501</td><td>1.0271844e+06</td><td>1.4042902e+02</td><td>3.7491572e+03</td><td>2.2283657e+00</td><td>1.0347789e+06</td><td>2.4594159e+02</td><td>0</td><td>nan</td><td>nan</td><td>nan</td><td>nan</td><td>1041.55834</td><td>1.3624557e-04</td><td>613.48164</td><td>1.7334183e-04</td><td>1.5743829e-03</td><td>-1.4540013e-03</td></tr>\n",
       "<tr><td>2009-05-02T00:43:38.045</td><td>6.631103e-04</td><td>5502</td><td>1.0270762e+06</td><td>1.4038968e+02</td><td>3.7502588e+03</td><td>2.2283745e+00</td><td>1.0346701e+06</td><td>2.4408449e+02</td><td>0</td><td>nan</td><td>nan</td><td>nan</td><td>nan</td><td>1041.55751</td><td>1.3616899e-04</td><td>613.47866</td><td>1.7328140e-04</td><td>1.5665225e-03</td><td>-1.4616371e-03</td></tr>\n",
       "<tr><td>2009-05-02T00:44:36.894</td><td>6.631350e-04</td><td>5503</td><td>1.0271414e+06</td><td>1.4042482e+02</td><td>3.7513606e+03</td><td>2.2283831e+00</td><td>1.0347365e+06</td><td>2.4229922e+02</td><td>0</td><td>nan</td><td>nan</td><td>nan</td><td>nan</td><td>1041.55898</td><td>1.3622017e-04</td><td>613.47947</td><td>1.7331526e-04</td><td>1.5586632e-03</td><td>-1.4692718e-03</td></tr>\n",
       "<tr><td>2009-05-02T00:45:35.752</td><td>6.631597e-04</td><td>5504</td><td>1.0271569e+06</td><td>1.4039404e+02</td><td>3.7524626e+03</td><td>2.2283916e+00</td><td>1.0347527e+06</td><td>2.4051416e+02</td><td>0</td><td>nan</td><td>nan</td><td>nan</td><td>nan</td><td>1041.55705</td><td>1.3621294e-04</td><td>613.48085</td><td>1.7329821e-04</td><td>1.5508028e-03</td><td>-1.4769078e-03</td></tr>\n",
       "<tr><td>2009-05-02T00:46:34.601</td><td>6.631844e-04</td><td>5505</td><td>1.0272296e+06</td><td>1.4043083e+02</td><td>3.7535642e+03</td><td>2.2284005e+00</td><td>1.0348268e+06</td><td>2.3879796e+02</td><td>0</td><td>nan</td><td>nan</td><td>nan</td><td>nan</td><td>1041.55916</td><td>1.3619773e-04</td><td>613.47844</td><td>1.7329390e-04</td><td>1.5429436e-03</td><td>-1.4845425e-03</td></tr>\n",
       "<tr><td>2009-05-02T00:47:33.451</td><td>6.632091e-04</td><td>5506</td><td>1.0273199e+06</td><td>1.4040657e+02</td><td>3.7546660e+03</td><td>2.2284091e+00</td><td>1.0349186e+06</td><td>2.3708369e+02</td><td>0</td><td>nan</td><td>nan</td><td>nan</td><td>nan</td><td>1041.55680</td><td>1.3621902e-04</td><td>613.47908</td><td>1.7324935e-04</td><td>1.5350844e-03</td><td>-1.4921773e-03</td></tr>\n",
       "<tr><td>2009-05-02T00:48:32.291</td><td>6.632337e-04</td><td>5507</td><td>1.0271497e+06</td><td>1.4042722e+02</td><td>3.7557673e+03</td><td>2.2284179e+00</td><td>1.0347472e+06</td><td>2.3542677e+02</td><td>0</td><td>nan</td><td>nan</td><td>nan</td><td>nan</td><td>1041.55869</td><td>1.3619712e-04</td><td>613.47893</td><td>1.7332737e-04</td><td>1.5272264e-03</td><td>-1.4998110e-03</td></tr>\n",
       "<tr><td>2009-05-02T00:49:31.149</td><td>6.632584e-04</td><td>5508</td><td>1.0271755e+06</td><td>1.4039893e+02</td><td>3.7568694e+03</td><td>2.2284267e+00</td><td>1.0347741e+06</td><td>2.3377666e+02</td><td>0</td><td>nan</td><td>nan</td><td>nan</td><td>nan</td><td>1041.55682</td><td>1.3621723e-04</td><td>613.48127</td><td>1.7328723e-04</td><td>1.5193661e-03</td><td>-1.5074468e-03</td></tr>\n",
       "<tr><td>...</td><td>...</td><td>...</td><td>...</td><td>...</td><td>...</td><td>...</td><td>...</td><td>...</td><td>...</td><td>...</td><td>...</td><td>...</td><td>...</td><td>...</td><td>...</td><td>...</td><td>...</td><td>...</td><td>...</td></tr>\n",
       "<tr><td>2009-05-11T17:58:22.526</td><td>1.014493e-03</td><td>19770</td><td>1.0234769e+06</td><td>1.3977835e+02</td><td>3.4835161e+03</td><td>2.2386594e+00</td><td>1.0312661e+06</td><td>1.7631956e+02</td><td>0</td><td>nan</td><td>nan</td><td>nan</td><td>nan</td><td>1041.56044</td><td>1.3389716e-04</td><td>613.48443</td><td>1.7060364e-04</td><td>3.6121816e-03</td><td>3.1950327e-03</td></tr>\n",
       "<tr><td>2009-05-11T17:59:21.376</td><td>1.014518e-03</td><td>19771</td><td>1.0234574e+06</td><td>1.3981071e+02</td><td>3.4815105e+03</td><td>2.2386670e+00</td><td>1.0312451e+06</td><td>1.7693469e+02</td><td>0</td><td>nan</td><td>nan</td><td>nan</td><td>nan</td><td>1041.56186</td><td>1.3387315e-04</td><td>613.48509</td><td>1.7066579e-04</td><td>3.6102540e-03</td><td>3.1872767e-03</td></tr>\n",
       "<tr><td>2009-05-11T18:00:20.225</td><td>1.014542e-03</td><td>19772</td><td>1.0238128e+06</td><td>1.3979939e+02</td><td>3.4795049e+03</td><td>2.2386744e+00</td><td>1.0316024e+06</td><td>1.7760115e+02</td><td>0</td><td>nan</td><td>nan</td><td>nan</td><td>nan</td><td>1041.56003</td><td>1.3381931e-04</td><td>613.48458</td><td>1.7060475e-04</td><td>3.6083264e-03</td><td>3.1795206e-03</td></tr>\n",
       "<tr><td>2009-05-11T18:01:19.065</td><td>1.014567e-03</td><td>19773</td><td>1.0243234e+06</td><td>1.3986536e+02</td><td>3.4774995e+03</td><td>2.2386820e+00</td><td>1.0321166e+06</td><td>1.7842056e+02</td><td>0</td><td>nan</td><td>nan</td><td>nan</td><td>nan</td><td>1041.56114</td><td>1.3382663e-04</td><td>613.48438</td><td>1.7059974e-04</td><td>3.6063993e-03</td><td>3.1717657e-03</td></tr>\n",
       "<tr><td>2009-05-11T18:02:17.923</td><td>1.014591e-03</td><td>19774</td><td>1.0244257e+06</td><td>1.3987251e+02</td><td>3.4754937e+03</td><td>2.2386894e+00</td><td>1.0322181e+06</td><td>1.7929781e+02</td><td>0</td><td>nan</td><td>nan</td><td>nan</td><td>nan</td><td>1041.55951</td><td>1.3380310e-04</td><td>613.48484</td><td>1.7063033e-04</td><td>3.6044715e-03</td><td>3.1640085e-03</td></tr>\n",
       "<tr><td>2009-05-11T18:03:16.772</td><td>1.014615e-03</td><td>19775</td><td>1.0248654e+06</td><td>1.3990025e+02</td><td>3.4734878e+03</td><td>2.2386968e+00</td><td>1.0326604e+06</td><td>1.8030276e+02</td><td>0</td><td>nan</td><td>nan</td><td>nan</td><td>nan</td><td>1041.56119</td><td>1.3371815e-04</td><td>613.48421</td><td>1.7059981e-04</td><td>3.6025438e-03</td><td>3.1562524e-03</td></tr>\n",
       "<tr><td>2009-05-11T18:04:15.630</td><td>1.014640e-03</td><td>19776</td><td>1.0250156e+06</td><td>1.3991345e+02</td><td>3.4714819e+03</td><td>2.2387044e+00</td><td>1.0328102e+06</td><td>1.8141891e+02</td><td>0</td><td>nan</td><td>nan</td><td>nan</td><td>nan</td><td>1041.56087</td><td>1.3374219e-04</td><td>613.48549</td><td>1.7061993e-04</td><td>3.6006160e-03</td><td>3.1484952e-03</td></tr>\n",
       "<tr><td>2009-05-11T18:05:14.479</td><td>1.014664e-03</td><td>19777</td><td>1.0254516e+06</td><td>1.3994095e+02</td><td>3.4694761e+03</td><td>2.2387121e+00</td><td>1.0332485e+06</td><td>1.8267783e+02</td><td>0</td><td>nan</td><td>nan</td><td>nan</td><td>nan</td><td>1041.56085</td><td>1.3371665e-04</td><td>613.48456</td><td>1.7056632e-04</td><td>3.5986886e-03</td><td>3.1407392e-03</td></tr>\n",
       "<tr><td>2009-05-11T18:06:13.328</td><td>1.014689e-03</td><td>19778</td><td>1.0254685e+06</td><td>1.3994080e+02</td><td>3.4674707e+03</td><td>2.2387197e+00</td><td>1.0332635e+06</td><td>1.8405884e+02</td><td>0</td><td>nan</td><td>nan</td><td>nan</td><td>nan</td><td>1041.56078</td><td>1.3366723e-04</td><td>613.48436</td><td>1.7059664e-04</td><td>3.5967610e-03</td><td>3.1329831e-03</td></tr>\n",
       "<tr><td>2009-05-11T18:07:12.186</td><td>1.014713e-03</td><td>19779</td><td>1.0259309e+06</td><td>1.3996925e+02</td><td>3.4654646e+03</td><td>2.2387271e+00</td><td>1.0337284e+06</td><td>1.8561456e+02</td><td>0</td><td>nan</td><td>nan</td><td>nan</td><td>nan</td><td>1041.56051</td><td>1.3364454e-04</td><td>613.48536</td><td>1.7053897e-04</td><td>3.5948332e-03</td><td>3.1252259e-03</td></tr>\n",
       "</table>"
      ],
      "text/plain": [
       "<TimeSeries length=14280>\n",
       "          time             timecorr   ...   pos_corr1      pos_corr2   \n",
       "                              d       ...      pix            pix      \n",
       "         object            float32    ...    float32        float32    \n",
       "----------------------- ------------- ... -------------- --------------\n",
       "2009-05-02T00:41:40.338  6.630610e-04 ...  1.5822421e-03 -1.4463664e-03\n",
       "2009-05-02T00:42:39.188  6.630857e-04 ...  1.5743829e-03 -1.4540013e-03\n",
       "2009-05-02T00:43:38.045  6.631103e-04 ...  1.5665225e-03 -1.4616371e-03\n",
       "2009-05-02T00:44:36.894  6.631350e-04 ...  1.5586632e-03 -1.4692718e-03\n",
       "2009-05-02T00:45:35.752  6.631597e-04 ...  1.5508028e-03 -1.4769078e-03\n",
       "2009-05-02T00:46:34.601  6.631844e-04 ...  1.5429436e-03 -1.4845425e-03\n",
       "2009-05-02T00:47:33.451  6.632091e-04 ...  1.5350844e-03 -1.4921773e-03\n",
       "2009-05-02T00:48:32.291  6.632337e-04 ...  1.5272264e-03 -1.4998110e-03\n",
       "2009-05-02T00:49:31.149  6.632584e-04 ...  1.5193661e-03 -1.5074468e-03\n",
       "                    ...           ... ...            ...            ...\n",
       "2009-05-11T17:58:22.526  1.014493e-03 ...  3.6121816e-03  3.1950327e-03\n",
       "2009-05-11T17:59:21.376  1.014518e-03 ...  3.6102540e-03  3.1872767e-03\n",
       "2009-05-11T18:00:20.225  1.014542e-03 ...  3.6083264e-03  3.1795206e-03\n",
       "2009-05-11T18:01:19.065  1.014567e-03 ...  3.6063993e-03  3.1717657e-03\n",
       "2009-05-11T18:02:17.923  1.014591e-03 ...  3.6044715e-03  3.1640085e-03\n",
       "2009-05-11T18:03:16.772  1.014615e-03 ...  3.6025438e-03  3.1562524e-03\n",
       "2009-05-11T18:04:15.630  1.014640e-03 ...  3.6006160e-03  3.1484952e-03\n",
       "2009-05-11T18:05:14.479  1.014664e-03 ...  3.5986886e-03  3.1407392e-03\n",
       "2009-05-11T18:06:13.328  1.014689e-03 ...  3.5967610e-03  3.1329831e-03\n",
       "2009-05-11T18:07:12.186  1.014713e-03 ...  3.5948332e-03  3.1252259e-03"
      ]
     },
     "execution_count": 3,
     "metadata": {},
     "output_type": "execute_result"
    }
   ],
   "source": [
    ">>> ts  "
   ]
  },
  {
   "cell_type": "raw",
   "metadata": {},
   "source": [
    "In the same way as for Table objects, the various columns and rows of TimeSeries objects can be accessed and sliced using index notation:"
   ]
  },
  {
   "cell_type": "code",
   "execution_count": 4,
   "metadata": {},
   "outputs": [
    {
     "data": {
      "text/html": [
       "<i>TimeSeries length=4</i>\n",
       "<table id=\"table140622478580560\" class=\"table-striped table-bordered table-condensed\">\n",
       "<thead><tr><th>time</th><th>timecorr</th><th>cadenceno</th><th>sap_flux</th><th>sap_flux_err</th><th>sap_bkg</th><th>sap_bkg_err</th><th>pdcsap_flux</th><th>pdcsap_flux_err</th><th>sap_quality</th><th>psf_centr1</th><th>psf_centr1_err</th><th>psf_centr2</th><th>psf_centr2_err</th><th>mom_centr1</th><th>mom_centr1_err</th><th>mom_centr2</th><th>mom_centr2_err</th><th>pos_corr1</th><th>pos_corr2</th></tr></thead>\n",
       "<thead><tr><th></th><th>d</th><th></th><th>electron / s</th><th>electron / s</th><th>electron / s</th><th>electron / s</th><th>electron / s</th><th>electron / s</th><th></th><th>pix</th><th>pix</th><th>pix</th><th>pix</th><th>pix</th><th>pix</th><th>pix</th><th>pix</th><th>pix</th><th>pix</th></tr></thead>\n",
       "<thead><tr><th>object</th><th>float32</th><th>int32</th><th>float32</th><th>float32</th><th>float32</th><th>float32</th><th>float32</th><th>float32</th><th>int32</th><th>float64</th><th>float32</th><th>float64</th><th>float32</th><th>float64</th><th>float32</th><th>float64</th><th>float32</th><th>float32</th><th>float32</th></tr></thead>\n",
       "<tr><td>2009-05-02T00:41:40.338</td><td>6.630610e-04</td><td>5500</td><td>1.0270451e+06</td><td>1.4041933e+02</td><td>3.7480554e+03</td><td>2.2283568e+00</td><td>1.0346376e+06</td><td>2.4780812e+02</td><td>0</td><td>nan</td><td>nan</td><td>nan</td><td>nan</td><td>1041.56040</td><td>1.3623475e-04</td><td>613.47997</td><td>1.7336856e-04</td><td>1.5822421e-03</td><td>-1.4463664e-03</td></tr>\n",
       "<tr><td>2009-05-02T00:42:39.188</td><td>6.630857e-04</td><td>5501</td><td>1.0271844e+06</td><td>1.4042902e+02</td><td>3.7491572e+03</td><td>2.2283657e+00</td><td>1.0347789e+06</td><td>2.4594159e+02</td><td>0</td><td>nan</td><td>nan</td><td>nan</td><td>nan</td><td>1041.55834</td><td>1.3624557e-04</td><td>613.48164</td><td>1.7334183e-04</td><td>1.5743829e-03</td><td>-1.4540013e-03</td></tr>\n",
       "<tr><td>2009-05-02T00:43:38.045</td><td>6.631103e-04</td><td>5502</td><td>1.0270762e+06</td><td>1.4038968e+02</td><td>3.7502588e+03</td><td>2.2283745e+00</td><td>1.0346701e+06</td><td>2.4408449e+02</td><td>0</td><td>nan</td><td>nan</td><td>nan</td><td>nan</td><td>1041.55751</td><td>1.3616899e-04</td><td>613.47866</td><td>1.7328140e-04</td><td>1.5665225e-03</td><td>-1.4616371e-03</td></tr>\n",
       "<tr><td>2009-05-02T00:44:36.894</td><td>6.631350e-04</td><td>5503</td><td>1.0271414e+06</td><td>1.4042482e+02</td><td>3.7513606e+03</td><td>2.2283831e+00</td><td>1.0347365e+06</td><td>2.4229922e+02</td><td>0</td><td>nan</td><td>nan</td><td>nan</td><td>nan</td><td>1041.55898</td><td>1.3622017e-04</td><td>613.47947</td><td>1.7331526e-04</td><td>1.5586632e-03</td><td>-1.4692718e-03</td></tr>\n",
       "</table>"
      ],
      "text/plain": [
       "<TimeSeries length=4>\n",
       "          time             timecorr   ...   pos_corr1      pos_corr2   \n",
       "                              d       ...      pix            pix      \n",
       "         object            float32    ...    float32        float32    \n",
       "----------------------- ------------- ... -------------- --------------\n",
       "2009-05-02T00:41:40.338  6.630610e-04 ...  1.5822421e-03 -1.4463664e-03\n",
       "2009-05-02T00:42:39.188  6.630857e-04 ...  1.5743829e-03 -1.4540013e-03\n",
       "2009-05-02T00:43:38.045  6.631103e-04 ...  1.5665225e-03 -1.4616371e-03\n",
       "2009-05-02T00:44:36.894  6.631350e-04 ...  1.5586632e-03 -1.4692718e-03"
      ]
     },
     "execution_count": 4,
     "metadata": {},
     "output_type": "execute_result"
    }
   ],
   "source": [
    ">>> ts['time', 'sap_flux'] \n",
    ">>> ts[0:4]"
   ]
  },
  {
   "cell_type": "raw",
   "metadata": {},
   "source": [
    "The first column is always a Time object (see Times and Dates), which therefore supports the ability to convert to different time scales and formats:"
   ]
  },
  {
   "cell_type": "code",
   "execution_count": 5,
   "metadata": {},
   "outputs": [
    {
     "data": {
      "text/plain": [
       "array([2454953.5289391 , 2454953.52962023, 2454953.53030145, ...,\n",
       "       2454963.2536398 , 2454963.25432093, 2454963.25500215])"
      ]
     },
     "execution_count": 5,
     "metadata": {},
     "output_type": "execute_result"
    }
   ],
   "source": [
    ">>> ts.time.jd"
   ]
  },
  {
   "cell_type": "raw",
   "metadata": {},
   "source": [
    "Making a plot is pretty easy. Just choose your unit of time and secondary column for your y-axis"
   ]
  },
  {
   "cell_type": "code",
   "execution_count": 6,
   "metadata": {},
   "outputs": [
    {
     "data": {
      "text/plain": [
       "Text(0, 0.5, 'SAP Flux (e-/s)')"
      ]
     },
     "execution_count": 6,
     "metadata": {},
     "output_type": "execute_result"
    },
    {
     "data": {
      "image/png": "[encoded data removed]",
      "text/plain": [
       "<Figure size 432x288 with 1 Axes>"
      ]
     },
     "metadata": {
      "needs_background": "light"
     },
     "output_type": "display_data"
    }
   ],
   "source": [
    "import matplotlib.pyplot as plt\n",
    "plt.plot(ts.time.jd, ts['sap_flux'], markersize=1)\n",
    "plt.xlabel('Julian Date')\n",
    "plt.ylabel('SAP Flux (e-/s)')"
   ]
  },
  {
   "cell_type": "markdown",
   "metadata": {},
   "source": [
    "We now take a look at how to make an interactive figure of this lightcurve. To initialize a figure, use the InteractiveTimeSeriesFigure class:"
   ]
  },
  {
   "cell_type": "code",
   "execution_count": 7,
   "metadata": {},
   "outputs": [],
   "source": [
    "from aas_timeseries import InteractiveTimeSeriesFigure\n",
    "fig = InteractiveTimeSeriesFigure()"
   ]
  },
  {
   "cell_type": "raw",
   "metadata": {},
   "source": [
    "Next we define some markers and labels"
   ]
  },
  {
   "cell_type": "code",
   "execution_count": 8,
   "metadata": {},
   "outputs": [],
   "source": [
    "markers = fig.add_markers(time_series=ts, column='sap_flux', label='SAP Flux')\n",
    "#The first argument is the whole time series object\n",
    "#the second is the name of the column to use for the specific markers\n",
    "#the latter is used in the legend of the plot.\n",
    "fig.xlabel = 'Time (UTC)'\n",
    "fig.ylabel = 'Flux (electron/s)'"
   ]
  },
  {
   "cell_type": "raw",
   "metadata": {},
   "source": [
    "At this point, if you are using the Jupyter Notebook or Jupyter Lab, you can see a preview of your interactive figure by doing:"
   ]
  },
  {
   "cell_type": "code",
   "execution_count": 9,
   "metadata": {},
   "outputs": [
    {
     "data": {
      "application/vnd.jupyter.widget-view+json": {
       "model_id": "75c02af5afc34c4f82ee29a731daf3ca",
       "version_major": 2,
       "version_minor": 0
      },
      "text/plain": [
       "TimeSeriesWidget(vega_json='{\\n  \"$schema\": \"https://vega.github.io/schema/vega/v4.json\",\\n  \"_extend\": {\\n   …"
      ]
     },
     "metadata": {},
     "output_type": "display_data"
    }
   ],
   "source": [
    "fig.preview_interactive()"
   ]
  },
  {
   "cell_type": "code",
   "execution_count": null,
   "metadata": {},
   "outputs": [],
   "source": []
  },
  {
   "cell_type": "code",
   "execution_count": null,
   "metadata": {},
   "outputs": [],
   "source": []
  }
 ],
 "metadata": {
  "kernelspec": {
   "display_name": "Python 3",
   "language": "python",
   "name": "python3"
  },
  "language_info": {
   "codemirror_mode": {
    "name": "ipython",
    "version": 3
   },
   "file_extension": ".py",
   "mimetype": "text/x-python",
   "name": "python",
   "nbconvert_exporter": "python",
   "pygments_lexer": "ipython3",
   "version": "3.8.5"
  }
 },
 "nbformat": 4,
 "nbformat_minor": 4
}
